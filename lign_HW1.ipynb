{
 "cells": [
  {
   "cell_type": "markdown",
   "metadata": {},
   "source": [
    "Problem 1. Write a Python function compute_slope_estimator, which takes in two input variables, x and y. The variables x and y should be 1-dimensional NumPy arrays that have the same length n. The function should return the optimal value of the slope from Equation 4."
   ]
  },
  {
   "cell_type": "code",
   "execution_count": 1,
   "metadata": {},
   "outputs": [],
   "source": [
    "import numpy as np\n",
    "def compute_slope_estimator(x,y):\n",
    "    n = x.shape[0]\n",
    "    x_mean = np.sum(x,axis = 0) / n\n",
    "    y_mean = np.sum(y,axis = 0) / n\n",
    "    sum_xy = np.sum(x*y, axis = 0)\n",
    "    sum_xx = np.sum(x*x, axis = 0)\n",
    "    a = (sum_xy - n * x_mean * y_mean) / (sum_xx - n*x_mean*x_mean)\n",
    "    return a"
   ]
  },
  {
   "cell_type": "markdown",
   "metadata": {},
   "source": [
    "Problem 2. Write a Python function compute_intercept_estimator, which takes in two input variables, x and y. The variables x and y should be 1-dimensional NumPy arrays that have the same length n. The function should return the optimal value of the intercept from Equation 5."
   ]
  },
  {
   "cell_type": "code",
   "execution_count": 2,
   "metadata": {},
   "outputs": [],
   "source": [
    "def compute_intercept_estimator(x,y):\n",
    "    n = x.shape[0]\n",
    "    x_mean = np.sum(x,axis = 0) / n\n",
    "    y_mean = np.sum(y,axis = 0) / n\n",
    "    sum_xy = np.sum(x*y, axis = 0)\n",
    "    sum_xx = np.sum(x*x, axis = 0)\n",
    "    a = (sum_xy - n * x_mean * y_mean) / (sum_xx - n*x_mean*x_mean)\n",
    "    b = y_mean - a * x_mean\n",
    "    return b"
   ]
  },
  {
   "cell_type": "markdown",
   "metadata": {},
   "source": [
    "Problem 3. Write a function train_model, which takes in two 1-dimensional NumPy ar-\n",
    "rays of the same length, x and y. It should use compute_slope_estimator and compute_intercept_estimator, and return a tuple of values: the optimal value of the slope and the optimal value of the\n",
    "intercept.\n",
    "The elements in the array y can be considered our training set: we use them to estimate the optimal values of the slope and intercept."
   ]
  },
  {
   "cell_type": "code",
   "execution_count": 3,
   "metadata": {},
   "outputs": [],
   "source": [
    "def train_model(x,training_set):\n",
    "    return (compute_slope_estimator(x,training_set), compute_intercept_estimator(x,training_set))"
   ]
  },
  {
   "cell_type": "markdown",
   "metadata": {},
   "source": [
    "Problem 4. Write a function sample_linear_model which takes four arguments: x_vals, a, b, and sd. The variable x_vals is a 1-dimensional NumPy array of length n. The function should return a NumPy array y of length n, where each element of yi has been sampled from: yi = a · xi + b + εi. Here εi should follow a normal distribution with mean equal to 0 and standard deviation equal to sd.\n",
    "This function describes the generative model that we believe our dataset was sampled from.\n",
    "(You should use NumPy’s built in functions for sampling from a normal distribution.)"
   ]
  },
  {
   "cell_type": "code",
   "execution_count": 4,
   "metadata": {},
   "outputs": [],
   "source": [
    "def sample_linear_model(x,slope,intercept,sd):\n",
    "    n = x.shape[0]\n",
    "    e = np.random.normal(0 , sd, n)\n",
    "    y = slope * x + intercept + e\n",
    "    return y"
   ]
  },
  {
   "cell_type": "markdown",
   "metadata": {},
   "source": [
    "Problem 5. Write a function sample_datasets which takes five arguments (the first four the same as in the previous problem): x_vals, a, b, sd, and n. It should return a list of n sampled datasets, where each dataset is constructed using the function sample_linear_model from the previous problem.\n"
   ]
  },
  {
   "cell_type": "code",
   "execution_count": 5,
   "metadata": {},
   "outputs": [],
   "source": [
    "def sample_datasets(x,slope,intercept,sd,n):\n",
    "    result = []\n",
    "    for i in range(n):\n",
    "        result.append(sample_linear_model(x,slope,intercept,sd))\n",
    "    return np.asarray(result)"
   ]
  },
  {
   "cell_type": "markdown",
   "metadata": {},
   "source": [
    "problem 6"
   ]
  },
  {
   "cell_type": "code",
   "execution_count": 6,
   "metadata": {},
   "outputs": [],
   "source": [
    "def compute_average_estimated_slope(x_vals,a=1,b=1,sd=1):\n",
    "    y = sample_datasets(x_vals,a,b,sd,1000)\n",
    "    slope_sum = 0\n",
    "    for i in range(1000):\n",
    "        slope_sum = slope_sum + compute_slope_estimator(x_vals,y[i,:])\n",
    "    return 1/1000*slope_sum"
   ]
  },
  {
   "cell_type": "markdown",
   "metadata": {},
   "source": [
    "problem 7"
   ]
  },
  {
   "cell_type": "code",
   "execution_count": 7,
   "metadata": {},
   "outputs": [
    {
     "ename": "SyntaxError",
     "evalue": "invalid syntax (<ipython-input-7-1cfb2175b933>, line 6)",
     "output_type": "error",
     "traceback": [
      "\u001b[0;36m  File \u001b[0;32m\"<ipython-input-7-1cfb2175b933>\"\u001b[0;36m, line \u001b[0;32m6\u001b[0m\n\u001b[0;31m    In problem 7, I found that the value of average estimated slope that is returned is around 1 which is setted by us. As n increases, the value of average estimated slope is essentially unchanged.\u001b[0m\n\u001b[0m             ^\u001b[0m\n\u001b[0;31mSyntaxError\u001b[0m\u001b[0;31m:\u001b[0m invalid syntax\n"
     ]
    }
   ],
   "source": [
    "n = 5\n",
    "# n = 100\n",
    "# n = 1000\n",
    "x_vals = np.linspace(0,1,num=n)\n",
    "compute_average_estimated_slope(x_vals,a=1,b=1,sd=1)\n",
    "In problem 7, I found that the value of average estimated slope that is returned is around 1 which is setted by us. As n increases, the value of average estimated slope is essentially unchanged."
   ]
  },
  {
   "cell_type": "markdown",
   "metadata": {},
   "source": [
    "problem 8"
   ]
  },
  {
   "cell_type": "code",
   "execution_count": 16,
   "metadata": {},
   "outputs": [],
   "source": [
    "def compute_estimated_slope_error(x_vals,a=1,b=1,sd=1):\n",
    "    y = sample_datasets(x_vals,a,b,sd,1000)\n",
    "    print(y[999,:])\n",
    "    error_sum = 0\n",
    "    for i in range(1000):\n",
    "        error_sum = error_sum + (1 - compute_slope_estimator(x_vals,y[i,:]))*(1 - compute_slope_estimator(x_vals,y[i,:]))\n",
    "    return 1/1000*error_sum\n"
   ]
  },
  {
   "cell_type": "code",
   "execution_count": 17,
   "metadata": {},
   "outputs": [
    {
     "name": "stdout",
     "output_type": "stream",
     "text": [
      "0.9977489156545863\n",
      "[0.80697344 1.18363036 0.73488395 ... 1.89262219 1.55918865 1.77579439]\n",
      "0.0011880378351885677\n"
     ]
    }
   ],
   "source": [
    "m = 10000\n",
    "x_vals = np.linspace(0,1,num=m)\n",
    "print(compute_average_estimated_slope(x_vals,a=1,b=1,sd=1))\n",
    "print(compute_estimated_slope_error(x_vals,a=1,b=1,sd=1))"
   ]
  },
  {
   "cell_type": "markdown",
   "metadata": {},
   "source": [
    "In problem 8, I found that as n increases the average squared error decreases."
   ]
  },
  {
   "cell_type": "markdown",
   "metadata": {},
   "source": [
    "Problem 9. Sample 1000 training sets as in the previous problems, and calculate the estimated value of the slope on each of the 1000 training sets. Collect these 1000 samples together in a NumPy array. Using Matplotlib, create a histogram of these samples.\n",
    "Try this for different values of x_vals, as in Problems 7 and 8. What do you notice about these distributions?"
   ]
  },
  {
   "cell_type": "code",
   "execution_count": 9,
   "metadata": {},
   "outputs": [],
   "source": [
    "def compute_1000_estimated_slope(x_vals,a=1,b=1,sd=1):\n",
    "    y = sample_datasets(x_vals,a,b,sd,1000)\n",
    "    slope = []\n",
    "    for i in range(1000):\n",
    "        slope.append(compute_slope_estimator(x_vals,y[i,:]))\n",
    "    return np.asarray(slope)\n"
   ]
  },
  {
   "cell_type": "code",
   "execution_count": 43,
   "metadata": {},
   "outputs": [
    {
     "data": {
      "image/png": "[encoded data removed]",
      "text/plain": [
       "<Figure size 432x288 with 1 Axes>"
      ]
     },
     "metadata": {
      "needs_background": "light"
     },
     "output_type": "display_data"
    }
   ],
   "source": [
    "m = 1000\n",
    "import matplotlib\n",
    "import numpy as np\n",
    "import matplotlib.pyplot as plt\n",
    "x_vals = np.linspace(0,1,num=m)\n",
    "y_vals = compute_1000_estimated_slope(x_vals,a=1,b=1,sd=1)\n",
    "\n",
    "num_bins = 'auto'\n",
    "\n",
    "\n",
    "n, bins, patches = plt.hist(y_vals, num_bins , density=False, facecolor='g', alpha=0.75)\n",
    "# plt.xlim([0,2])\n",
    "plt.title('n = 1000')\n",
    "plt.savefig('n=1000.png')\n",
    "plt.show()"
   ]
  },
  {
   "cell_type": "markdown",
   "metadata": {},
   "source": [
    "In problem 9, we can notice that the distributions for different values of x are all normal distribution."
   ]
  },
  {
   "cell_type": "markdown",
   "metadata": {},
   "source": [
    "problem 10"
   ]
  },
  {
   "cell_type": "code",
   "execution_count": 27,
   "metadata": {},
   "outputs": [],
   "source": [
    "def calculate_prediction_error(y,y_hat):\n",
    "    n = y.shape[0]\n",
    "    sum_error = 0\n",
    "    for i in range(n):\n",
    "        sum_error = sum_error + (y[i]-y_hat[i])*(y[i]-y_hat[i])\n",
    "    return 1/n*sum_error"
   ]
  },
  {
   "cell_type": "markdown",
   "metadata": {},
   "source": [
    "problem11"
   ]
  },
  {
   "cell_type": "code",
   "execution_count": 39,
   "metadata": {},
   "outputs": [],
   "source": [
    "def average_training_set_error(x_vals,a=1,b=1,sd=1):\n",
    "    y = sample_datasets(x_vals,a,b,sd,1000)\n",
    "    y_hat = np.zeros((1000,))\n",
    "    error = 0\n",
    "    for i in range(1000):\n",
    "        slope = compute_slope_estimator(x_vals,y[i,:])\n",
    "        intercept = compute_intercept_estimator(x_vals,y[i,:])\n",
    "        y_hat = slope *x_vals + intercept\n",
    "        error = error + calculate_prediction_error(y[i,:],y_hat)\n",
    "    return 1/1000*error"
   ]
  },
  {
   "cell_type": "code",
   "execution_count": 45,
   "metadata": {},
   "outputs": [
    {
     "name": "stdout",
     "output_type": "stream",
     "text": [
      "0.9768645158298158\n"
     ]
    }
   ],
   "source": [
    "m = 100\n",
    "x_vals = np.linspace(0,1,num=m)\n",
    "print(average_training_set_error(x_vals,a=1,b=1,sd=1))"
   ]
  },
  {
   "cell_type": "markdown",
   "metadata": {},
   "source": [
    "When n = 5, 100, 1000, the value of error is respectively about 0.605,0.976,0.999. As the number of elements in x_vals increases, the average prediction error increases, and approaches 1. "
   ]
  },
  {
   "cell_type": "markdown",
   "metadata": {},
   "source": [
    "Problem 12"
   ]
  },
  {
   "cell_type": "code",
   "execution_count": 51,
   "metadata": {},
   "outputs": [],
   "source": [
    "def average_test_set_error(x_vals,a=1,b=1,sd=1):\n",
    "#     y_test = sample_linear_model(x_vals,a,b,sd)\n",
    "    y_train = sample_datasets(x_vals,a,b,sd,1000)\n",
    "    y_hat = np.zeros((1000,))\n",
    "    error = 0\n",
    "    for i in range(1000):\n",
    "        y_test = sample_linear_model(x_vals,a,b,sd)\n",
    "        slope = compute_slope_estimator(x_vals,y_train[i,:])\n",
    "        intercept = compute_intercept_estimator(x_vals,y_train[i,:])\n",
    "        y_hat = slope *x_vals + intercept\n",
    "        error = error + calculate_prediction_error(y_test,y_hat)\n",
    "    return 1/1000*error"
   ]
  },
  {
   "cell_type": "code",
   "execution_count": 60,
   "metadata": {},
   "outputs": [
    {
     "name": "stdout",
     "output_type": "stream",
     "text": [
      "0.9997246186354058\n"
     ]
    }
   ],
   "source": [
    "m = 1000\n",
    "x_vals = np.linspace(0,1,num=m)\n",
    "print(average_test_set_error(x_vals,a=1,b=1,sd=1))"
   ]
  },
  {
   "cell_type": "markdown",
   "metadata": {},
   "source": [
    "In problem 12, when n = 5, 100, 1000, the value of test set prediction error is 1.39, 1.024, 0.999. As the number of elements in x_vals increases, the average value of the test prediction error decreases, the average values of the training set prediction error increases."
   ]
  },
  {
   "cell_type": "code",
   "execution_count": 17,
   "metadata": {},
   "outputs": [
    {
     "ename": "IndentationError",
     "evalue": "expected an indented block (<ipython-input-17-b032ea5e5a93>, line 8)",
     "output_type": "error",
     "traceback": [
      "\u001b[0;36m  File \u001b[0;32m\"<ipython-input-17-b032ea5e5a93>\"\u001b[0;36m, line \u001b[0;32m8\u001b[0m\n\u001b[0;31m    def compute_estimated_slope_error(x_vals,a=1,b=1,sd=1):\u001b[0m\n\u001b[0m      ^\u001b[0m\n\u001b[0;31mIndentationError\u001b[0m\u001b[0;31m:\u001b[0m expected an indented block\n"
     ]
    }
   ],
   "source": [
    "# Problem 6\n",
    "def compute_average_estimated_slope(x_vals,a=1,b=1,sd=1):\n",
    "\n",
    "# Problem 7: Free response answer here.\n",
    "\n",
    "# Problem 8\n",
    "# Problem 8: Free response answer here.\n",
    "def compute_estimated_slope_error(x_vals,a=1,b=1,sd=1):\n",
    "\n",
    "# Problem 9: Include a pyplot graph as an additional file.\n",
    "\n",
    "# Problem 10\n",
    "def calculate_prediction_error(y,y_hat):\n",
    "\n",
    "# Problem 11\n",
    "# Problem 11: Free response answer here.\n",
    "def average_training_set_error(x_vals,a=1,b=1,sd=1):\n",
    "\n",
    "# Problem 12\n",
    "# Problem 12: Free response answer here.\n",
    "def average_test_set_error(x_vals,a=1,b=1,sd=1):"
   ]
  },
  {
   "cell_type": "code",
   "execution_count": null,
   "metadata": {},
   "outputs": [],
   "source": []
  },
  {
   "cell_type": "code",
   "execution_count": null,
   "metadata": {},
   "outputs": [],
   "source": []
  }
 ],
 "metadata": {
  "kernelspec": {
   "display_name": "Python 3",
   "language": "python",
   "name": "python3"
  },
  "language_info": {
   "codemirror_mode": {
    "name": "ipython",
    "version": 3
   },
   "file_extension": ".py",
   "mimetype": "text/x-python",
   "name": "python",
   "nbconvert_exporter": "python",
   "pygments_lexer": "ipython3",
   "version": "3.6.6"
  }
 },
 "nbformat": 4,
 "nbformat_minor": 2
}
